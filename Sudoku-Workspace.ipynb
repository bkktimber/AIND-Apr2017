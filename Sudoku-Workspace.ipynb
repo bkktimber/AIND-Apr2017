{
 "cells": [
  {
   "cell_type": "code",
   "execution_count": 1,
   "metadata": {
    "collapsed": false,
    "deletable": true,
    "editable": true
   },
   "outputs": [],
   "source": [
    "def cross(a,b):\n",
    "    return [s+t for s in a for t in b]\n",
    "\n",
    "def display(values):\n",
    "    \"\"\"\n",
    "    Display the values as a 2-D grid.\n",
    "    Input: The sudoku in dictionary form\n",
    "    Output: None\n",
    "    \"\"\"\n",
    "    width = 1+max(len(values[s]) for s in boxes)\n",
    "    line = '+'.join(['-'*(width*3)]*3)\n",
    "    for r in rows:\n",
    "        print(''.join(values[r+c].center(width)+('|' if c in '36' else '')\n",
    "                      for c in cols))\n",
    "        if r in 'CF': print(line)\n",
    "    return                "
   ]
  },
  {
   "cell_type": "code",
   "execution_count": 2,
   "metadata": {
    "collapsed": false,
    "deletable": true,
    "editable": true
   },
   "outputs": [],
   "source": [
    "def grid_values(grid):\n",
    "    \"\"\"\n",
    "    Convert grid into a dict of {square: char} with '123456789' for empties.\n",
    "    Input: A grid in string form.\n",
    "    Output: A grid in dictionary form\n",
    "            Keys: The boxes, e.g., 'A1'\n",
    "            Values: The value in each box, e.g., '8'. If the box has no value, then the value will be '123456789'.\n",
    "    \"\"\"\n",
    "    chars = []\n",
    "    digits = '123456789'\n",
    "    for c in grid:\n",
    "        if c in digits:\n",
    "            chars.append(c)\n",
    "        if c == '.':\n",
    "            chars.append(digits)\n",
    "    assert len(chars) == 81\n",
    "    return dict(zip(boxes, chars))"
   ]
  },
  {
   "cell_type": "code",
   "execution_count": 3,
   "metadata": {
    "collapsed": false,
    "deletable": true,
    "editable": true
   },
   "outputs": [],
   "source": [
    "def eliminate(values):\n",
    "    \"\"\"\n",
    "    Go through all the boxes, and whenever there is a box with a value, eliminate this value from the values of all its peers.\n",
    "    Input: A sudoku in dictionary form.\n",
    "    Output: The resulting sudoku in dictionary form.\n",
    "    \"\"\"\n",
    "    solved_values = [box for box in values.keys() if len(values[box]) == 1]\n",
    "    for box in solved_values:\n",
    "        digit = values[box]\n",
    "        for peer in peers[box]:\n",
    "            values[peer] = values[peer].replace(digit,'')\n",
    "    return values\n",
    "\n",
    "def only_choice(values):\n",
    "    \"\"\"\n",
    "    Go through all the units, and whenever there is a unit with a value that only fits in one box, assign the value to this box.\n",
    "    Input: A sudoku in dictionary form.\n",
    "    Output: The resulting sudoku in dictionary form.\n",
    "    \"\"\"\n",
    "    for unit in unitlist:\n",
    "        for digit in '123456789':\n",
    "            dplaces = [box for box in unit if digit in values[box]]\n",
    "            if len(dplaces) == 1:\n",
    "                values[dplaces[0]] = digit\n",
    "    return values"
   ]
  },
  {
   "cell_type": "code",
   "execution_count": 4,
   "metadata": {
    "collapsed": false,
    "deletable": true,
    "editable": true
   },
   "outputs": [],
   "source": [
    "def naked_twins(values):\n",
    "    for unit in unitlist:\n",
    "        pairs_keys = [box for box in unit if len(values[box]) == 2]\n",
    "        pairs_values = [values[box] for box in unit if len(values[box]) == 2]\n",
    "        if len(pairs_values)%2 == 0 and len(pairs_values) >1:\n",
    "            duplicates = [value for value in pairs_values if pairs_values.count(value) > 1]\n",
    "#             nonpair_keys = [box for box in unit if len(values[box]) != 2]\n",
    "            twins_values = values\n",
    "            for dub in duplicates:\n",
    "                twins = dub\n",
    "                for digit in twins:\n",
    "                    for box in unit:\n",
    "                        if twins_values[box] != dub: \n",
    "                            values[box] = twins_values[box].replace(digit,'')\n",
    "    return values"
   ]
  },
  {
   "cell_type": "code",
   "execution_count": 12,
   "metadata": {
    "collapsed": true,
    "deletable": true,
    "editable": true
   },
   "outputs": [],
   "source": [
    "def reduce_puzzle(values):\n",
    "    \"\"\"\n",
    "    Iterate eliminate() and only_choice(). If at some point, there is a box with no available values, return False.\n",
    "    If the sudoku is solved, return the sudoku.\n",
    "    If after an iteration of both functions, the sudoku remains the same, return the sudoku.\n",
    "    Input: A sudoku in dictionary form.\n",
    "    Output: The resulting sudoku in dictionary form.\n",
    "    \"\"\"\n",
    "    solved_values = [box for box in values.keys() if len(values[box]) == 1]\n",
    "    stalled = False\n",
    "    while not stalled:\n",
    "        solved_values_before = len([box for box in values.keys() if len(values[box]) == 1])\n",
    "        values = eliminate(values)\n",
    "        values = naked_twins(values)\n",
    "        values = only_choice(values)\n",
    "        solved_values_after = len([box for box in values.keys() if len(values[box]) == 1])\n",
    "        stalled = solved_values_before == solved_values_after\n",
    "        if len([box for box in values.keys() if len(values[box]) == 0]):\n",
    "            return False\n",
    "    return values"
   ]
  },
  {
   "cell_type": "code",
   "execution_count": 6,
   "metadata": {
    "collapsed": true,
    "deletable": true,
    "editable": true
   },
   "outputs": [],
   "source": [
    "def search(values):\n",
    "    \"Using depth-first search and propagation, create a search tree and solve the sudoku.\"\n",
    "    # First, reduce the puzzle using the previous function\n",
    "    values = reduce_puzzle(values)\n",
    "    if values is False:\n",
    "        return False ## Failed earlier\n",
    "    if all(len(values[s]) == 1 for s in boxes): \n",
    "        return values ## Solved!\n",
    "    # Choose one of the unfilled squares with the fewest possibilities\n",
    "    n,s = min((len(values[s]), s) for s in boxes if len(values[s]) > 1)\n",
    "    # Now use recurrence to solve each one of the resulting sudokus, and \n",
    "    for value in values[s]:\n",
    "        new_sudoku = values.copy()\n",
    "        new_sudoku[s] = value\n",
    "        attempt = search(new_sudoku)\n",
    "        if attempt:\n",
    "            return attempt"
   ]
  },
  {
   "cell_type": "code",
   "execution_count": 7,
   "metadata": {
    "collapsed": true,
    "deletable": true,
    "editable": true
   },
   "outputs": [],
   "source": [
    "rows = 'ABCDEFGHI'\n",
    "cols = '123456789'"
   ]
  },
  {
   "cell_type": "code",
   "execution_count": 8,
   "metadata": {
    "collapsed": false,
    "deletable": true,
    "editable": true
   },
   "outputs": [],
   "source": [
    "boxes = cross(rows, cols)"
   ]
  },
  {
   "cell_type": "code",
   "execution_count": 24,
   "metadata": {
    "collapsed": true,
    "deletable": true,
    "editable": true
   },
   "outputs": [],
   "source": [
    "row_units = [cross(r, cols) for r in rows]\n",
    "column_units = [cross(rows, c) for c in cols]\n",
    "square_units = [cross(rs, cs) for rs in ('ABC','DEF','GHI') for cs in ('123','456','789')]\n",
    "diagnal1 = [[a[0]+a[1] for a in zip(rows,cols)]]\n",
    "diagnal2 = [[a[0]+a[1] for a in zip(rows,cols[::-1])]]\n",
    "\n",
    "unitlist = row_units + column_units + square_units + diagnal1 + diagnal2\n",
    "units = dict((s, [u for u in unitlist if s in u]) for s in boxes)\n",
    "peers = dict((s, set(sum(units[s],[]))-set([s])) for s in boxes)"
   ]
  },
  {
   "cell_type": "code",
   "execution_count": 13,
   "metadata": {
    "collapsed": false,
    "deletable": true,
    "editable": true
   },
   "outputs": [],
   "source": [
    "grid = '4.....8.5.3..........7......2.....6.....8.4......1.......6.3.7.5..2.....1.4......'\n",
    "values = grid_values(grid)"
   ]
  },
  {
   "cell_type": "code",
   "execution_count": 14,
   "metadata": {
    "collapsed": true,
    "deletable": true,
    "editable": true
   },
   "outputs": [],
   "source": [
    "values = eliminate(values)\n",
    "values = only_choice(values)"
   ]
  },
  {
   "cell_type": "code",
   "execution_count": 42,
   "metadata": {
    "collapsed": false,
    "deletable": true,
    "editable": true
   },
   "outputs": [
    {
     "name": "stdout",
     "output_type": "stream",
     "text": [
      " 2345689  2345689   34589  | 23456789  235678  2345689 |  24567      4        1    \n",
      "  123456   123456    345   | 1234567   123567   123456 |    8        9       567   \n",
      " 1245689  1245689     7    | 1245689   12568   1245689 |   2456      3        56   \n",
      "---------------------------+---------------------------+---------------------------\n",
      " 1234569  12345679   3459  |  123569   12356    123569 |  14579      8       3579  \n",
      "  135689   135689    3589  |  135689     4        7    |   159       15       2    \n",
      " 1234589  12345789  34589  |  123589   12358    123589 |  14579      6       3579  \n",
      "---------------------------+---------------------------+---------------------------\n",
      "    7      34589      2    |  134568   13568    134568 |   1569      15      5689  \n",
      "   3589     3589      1    |  235678   235678   23568  |  25679      27       4    \n",
      "   458      458       6    |  124578     9      12458  |    3        27      578   \n"
     ]
    }
   ],
   "source": [
    "display(fix_values)"
   ]
  },
  {
   "cell_type": "code",
   "execution_count": 16,
   "metadata": {
    "collapsed": false,
    "deletable": true,
    "editable": true
   },
   "outputs": [
    {
     "name": "stdout",
     "output_type": "stream",
     "text": [
      "   4      1679   12679  |  139     2369    269   |   8      1239     5    \n",
      " 26789     3    1256789 | 14589   24569   245689 | 12679    1249   124679 \n",
      "  2689   15689   125689 |   7     234569  245689 | 12369   12349   123469 \n",
      "------------------------+------------------------+------------------------\n",
      "  3789     2     15789  |  3459   34579    4579  | 13579     6     13789  \n",
      "  3679   15679   15679  |  359      8     25679  |   4     12359   12379  \n",
      " 36789     4     56789  |  359      1     25679  | 23579   23589   23789  \n",
      "------------------------+------------------------+------------------------\n",
      "  289      89     289   |   6      459      3    |  1259     7     12489  \n",
      "   5      6789     3    |   2      479      1    |   69     489     4689  \n",
      "   1      6789     4    |  589     579     5789  | 23569   23589   23689  \n"
     ]
    }
   ],
   "source": [
    "values = reduce_puzzle(values)\n",
    "display(values)"
   ]
  },
  {
   "cell_type": "code",
   "execution_count": 17,
   "metadata": {
    "collapsed": true,
    "deletable": true,
    "editable": true
   },
   "outputs": [],
   "source": [
    "values = search(values)"
   ]
  },
  {
   "cell_type": "code",
   "execution_count": 18,
   "metadata": {
    "collapsed": false,
    "deletable": true,
    "editable": true
   },
   "outputs": [
    {
     "name": "stdout",
     "output_type": "stream",
     "text": [
      "4 1 7 |3 6 9 |8 2 5 \n",
      "6 3 2 |1 5 8 |9 4 7 \n",
      "9 5 8 |7 2 4 |3 1 6 \n",
      "------+------+------\n",
      "8 2 5 |4 3 7 |1 6 9 \n",
      "7 9 1 |5 8 6 |4 3 2 \n",
      "3 4 6 |9 1 2 |7 5 8 \n",
      "------+------+------\n",
      "2 8 9 |6 4 3 |5 7 1 \n",
      "5 7 3 |2 9 1 |6 8 4 \n",
      "1 6 4 |8 7 5 |2 9 3 \n"
     ]
    }
   ],
   "source": [
    "display(values)"
   ]
  },
  {
   "cell_type": "markdown",
   "metadata": {
    "deletable": true,
    "editable": true
   },
   "source": [
    "Test"
   ]
  },
  {
   "cell_type": "code",
   "execution_count": 25,
   "metadata": {
    "collapsed": true,
    "deletable": true,
    "editable": true
   },
   "outputs": [],
   "source": [
    "grid = '2.............62....1....7...6..8...3...9...7...6..4...4....8....52.............3'"
   ]
  },
  {
   "cell_type": "code",
   "execution_count": 10,
   "metadata": {
    "collapsed": true,
    "deletable": true,
    "editable": true
   },
   "outputs": [],
   "source": [
    "grid = '9.1....8.8.5.7..4.2.4....6...7......5..............83.3..6......9................'"
   ]
  },
  {
   "cell_type": "code",
   "execution_count": 26,
   "metadata": {
    "collapsed": false,
    "deletable": true,
    "editable": true
   },
   "outputs": [
    {
     "name": "stdout",
     "output_type": "stream",
     "text": [
      "2 6 7 |9 4 5 |3 8 1 \n",
      "8 5 3 |7 1 6 |2 4 9 \n",
      "4 9 1 |8 2 3 |5 7 6 \n",
      "------+------+------\n",
      "5 7 6 |4 3 8 |1 9 2 \n",
      "3 8 4 |1 9 2 |6 5 7 \n",
      "1 2 9 |6 5 7 |4 3 8 \n",
      "------+------+------\n",
      "6 4 2 |3 7 9 |8 1 5 \n",
      "9 3 5 |2 8 1 |7 6 4 \n",
      "7 1 8 |5 6 4 |9 2 3 \n"
     ]
    }
   ],
   "source": [
    "# grid = '..3.2.6..9..3.5..1..18.64....81.29..7.......8..67.82....26.95..8..2.3..9..5.1.3..'\n",
    "test_values = grid_values(grid)\n",
    "# display(reduce_puzzle(test_values))\n",
    "display(search(reduce_puzzle(test_values)))"
   ]
  },
  {
   "cell_type": "code",
   "execution_count": 391,
   "metadata": {
    "collapsed": true,
    "deletable": true,
    "editable": true
   },
   "outputs": [],
   "source": [
    "before_naked_twins_1 = {'I6': '4', 'H9': '3', 'I2': '6', 'E8': '1', 'H3': '5', 'H7': '8', 'I7': '1', 'I4': '8',\n",
    "                            'H5': '6', 'F9': '7', 'G7': '6', 'G6': '3', 'G5': '2', 'E1': '8', 'G3': '1', 'G2': '8',\n",
    "                            'G1': '7', 'I1': '23', 'C8': '5', 'I3': '23', 'E5': '347', 'I5': '5', 'C9': '1', 'G9': '5',\n",
    "                            'G8': '4', 'A1': '1', 'A3': '4', 'A2': '237', 'A5': '9', 'A4': '2357', 'A7': '27',\n",
    "                            'A6': '257', 'C3': '8', 'C2': '237', 'C1': '23', 'E6': '579', 'C7': '9', 'C6': '6',\n",
    "                            'C5': '37', 'C4': '4', 'I9': '9', 'D8': '8', 'I8': '7', 'E4': '6', 'D9': '6', 'H8': '2',\n",
    "                            'F6': '125', 'A9': '8', 'G4': '9', 'A8': '6', 'E7': '345', 'E3': '379', 'F1': '6',\n",
    "                            'F2': '4', 'F3': '23', 'F4': '1235', 'F5': '8', 'E2': '37', 'F7': '35', 'F8': '9',\n",
    "                            'D2': '1', 'H1': '4', 'H6': '17', 'H2': '9', 'H4': '17', 'D3': '2379', 'B4': '27',\n",
    "                            'B5': '1', 'B6': '8', 'B7': '27', 'E9': '2', 'B1': '9', 'B2': '5', 'B3': '6', 'D6': '279',\n",
    "                            'D7': '34', 'D4': '237', 'D5': '347', 'B8': '3', 'B9': '4', 'D1': '5'}"
   ]
  },
  {
   "cell_type": "code",
   "execution_count": 355,
   "metadata": {
    "collapsed": true,
    "deletable": true,
    "editable": true
   },
   "outputs": [],
   "source": [
    "possible_solutions_1 = [\n",
    "        {'G7': '6', 'G6': '3', 'G5': '2', 'G4': '9', 'G3': '1', 'G2': '8', 'G1': '7', 'G9': '5', 'G8': '4', 'C9': '1',\n",
    "         'C8': '5', 'C3': '8', 'C2': '237', 'C1': '23', 'C7': '9', 'C6': '6', 'C5': '37', 'A4': '2357', 'A9': '8',\n",
    "         'A8': '6', 'F1': '6', 'F2': '4', 'F3': '23', 'F4': '1235', 'F5': '8', 'F6': '125', 'F7': '35', 'F8': '9',\n",
    "         'F9': '7', 'B4': '27', 'B5': '1', 'B6': '8', 'B7': '27', 'E9': '2', 'B1': '9', 'B2': '5', 'B3': '6', 'C4': '4',\n",
    "         'B8': '3', 'B9': '4', 'I9': '9', 'I8': '7', 'I1': '23', 'I3': '23', 'I2': '6', 'I5': '5', 'I4': '8', 'I7': '1',\n",
    "         'I6': '4', 'A1': '1', 'A3': '4', 'A2': '237', 'A5': '9', 'E8': '1', 'A7': '27', 'A6': '257', 'E5': '347',\n",
    "         'E4': '6', 'E7': '345', 'E6': '579', 'E1': '8', 'E3': '79', 'E2': '37', 'H8': '2', 'H9': '3', 'H2': '9',\n",
    "         'H3': '5', 'H1': '4', 'H6': '17', 'H7': '8', 'H4': '17', 'H5': '6', 'D8': '8', 'D9': '6', 'D6': '279',\n",
    "         'D7': '34', 'D4': '237', 'D5': '347', 'D2': '1', 'D3': '79', 'D1': '5'},\n",
    "        {'I6': '4', 'H9': '3', 'I2': '6', 'E8': '1', 'H3': '5', 'H7': '8', 'I7': '1', 'I4': '8', 'H5': '6', 'F9': '7',\n",
    "         'G7': '6', 'G6': '3', 'G5': '2', 'E1': '8', 'G3': '1', 'G2': '8', 'G1': '7', 'I1': '23', 'C8': '5', 'I3': '23',\n",
    "         'E5': '347', 'I5': '5', 'C9': '1', 'G9': '5', 'G8': '4', 'A1': '1', 'A3': '4', 'A2': '237', 'A5': '9',\n",
    "         'A4': '2357', 'A7': '27', 'A6': '257', 'C3': '8', 'C2': '237', 'C1': '23', 'E6': '579', 'C7': '9', 'C6': '6',\n",
    "         'C5': '37', 'C4': '4', 'I9': '9', 'D8': '8', 'I8': '7', 'E4': '6', 'D9': '6', 'H8': '2', 'F6': '125',\n",
    "         'A9': '8', 'G4': '9', 'A8': '6', 'E7': '345', 'E3': '79', 'F1': '6', 'F2': '4', 'F3': '23', 'F4': '1235',\n",
    "         'F5': '8', 'E2': '3', 'F7': '35', 'F8': '9', 'D2': '1', 'H1': '4', 'H6': '17', 'H2': '9', 'H4': '17',\n",
    "         'D3': '79', 'B4': '27', 'B5': '1', 'B6': '8', 'B7': '27', 'E9': '2', 'B1': '9', 'B2': '5', 'B3': '6',\n",
    "         'D6': '279', 'D7': '34', 'D4': '237', 'D5': '347', 'B8': '3', 'B9': '4', 'D1': '5'}\n",
    "        ]"
   ]
  },
  {
   "cell_type": "code",
   "execution_count": 392,
   "metadata": {
    "collapsed": false,
    "deletable": true,
    "editable": true
   },
   "outputs": [],
   "source": [
    "before_naked_twins_2 = {'A1': '23', 'A2': '4', 'A3': '7', 'A4': '6', 'A5': '8', 'A6': '5', 'A7': '23', 'A8': '9',\n",
    "                            'A9': '1', 'B1': '6', 'B2': '9', 'B3': '8', 'B4': '4', 'B5': '37', 'B6': '1', 'B7': '237',\n",
    "                            'B8': '5', 'B9': '237', 'C1': '23', 'C2': '5', 'C3': '1', 'C4': '23', 'C5': '379',\n",
    "                            'C6': '2379', 'C7': '8', 'C8': '6', 'C9': '4', 'D1': '8', 'D2': '17', 'D3': '9',\n",
    "                            'D4': '1235', 'D5': '6', 'D6': '237', 'D7': '4', 'D8': '27', 'D9': '2357', 'E1': '5',\n",
    "                            'E2': '6', 'E3': '2', 'E4': '8', 'E5': '347', 'E6': '347', 'E7': '37', 'E8': '1', 'E9': '9',\n",
    "                            'F1': '4', 'F2': '17', 'F3': '3', 'F4': '125', 'F5': '579', 'F6': '279', 'F7': '6',\n",
    "                            'F8': '8', 'F9': '257', 'G1': '1', 'G2': '8', 'G3': '6', 'G4': '35', 'G5': '345',\n",
    "                            'G6': '34', 'G7': '9', 'G8': '27', 'G9': '27', 'H1': '7', 'H2': '2', 'H3': '4', 'H4': '9',\n",
    "                            'H5': '1', 'H6': '8', 'H7': '5', 'H8': '3', 'H9': '6', 'I1': '9', 'I2': '3', 'I3': '5',\n",
    "                            'I4': '7', 'I5': '2', 'I6': '6', 'I7': '1', 'I8': '4', 'I9': '8'}"
   ]
  },
  {
   "cell_type": "code",
   "execution_count": 16,
   "metadata": {
    "collapsed": true,
    "deletable": true,
    "editable": true
   },
   "outputs": [],
   "source": [
    "possible_solutions_2 = [\n",
    "        {'A1': '23', 'A2': '4', 'A3': '7', 'A4': '6', 'A5': '8', 'A6': '5', 'A7': '23', 'A8': '9', 'A9': '1', 'B1': '6',\n",
    "         'B2': '9', 'B3': '8', 'B4': '4', 'B5': '37', 'B6': '1', 'B7': '237', 'B8': '5', 'B9': '237', 'C1': '23',\n",
    "         'C2': '5', 'C3': '1', 'C4': '23', 'C5': '79', 'C6': '79', 'C7': '8', 'C8': '6', 'C9': '4', 'D1': '8',\n",
    "         'D2': '17', 'D3': '9', 'D4': '1235', 'D5': '6', 'D6': '237', 'D7': '4', 'D8': '27', 'D9': '2357', 'E1': '5',\n",
    "         'E2': '6', 'E3': '2', 'E4': '8', 'E5': '347', 'E6': '347', 'E7': '37', 'E8': '1', 'E9': '9', 'F1': '4',\n",
    "         'F2': '17', 'F3': '3', 'F4': '125', 'F5': '579', 'F6': '279', 'F7': '6', 'F8': '8', 'F9': '257', 'G1': '1',\n",
    "         'G2': '8', 'G3': '6', 'G4': '35', 'G5': '345', 'G6': '34', 'G7': '9', 'G8': '27', 'G9': '27', 'H1': '7',\n",
    "         'H2': '2', 'H3': '4', 'H4': '9', 'H5': '1', 'H6': '8', 'H7': '5', 'H8': '3', 'H9': '6', 'I1': '9', 'I2': '3',\n",
    "         'I3': '5', 'I4': '7', 'I5': '2', 'I6': '6', 'I7': '1', 'I8': '4', 'I9': '8'},\n",
    "        {'A1': '23', 'A2': '4', 'A3': '7', 'A4': '6', 'A5': '8', 'A6': '5', 'A7': '23', 'A8': '9', 'A9': '1', 'B1': '6',\n",
    "         'B2': '9', 'B3': '8', 'B4': '4', 'B5': '3', 'B6': '1', 'B7': '237', 'B8': '5', 'B9': '237', 'C1': '23',\n",
    "         'C2': '5', 'C3': '1', 'C4': '23', 'C5': '79', 'C6': '79', 'C7': '8', 'C8': '6', 'C9': '4', 'D1': '8',\n",
    "         'D2': '17', 'D3': '9', 'D4': '1235', 'D5': '6', 'D6': '237', 'D7': '4', 'D8': '27', 'D9': '2357', 'E1': '5',\n",
    "         'E2': '6', 'E3': '2', 'E4': '8', 'E5': '347', 'E6': '347', 'E7': '37', 'E8': '1', 'E9': '9', 'F1': '4',\n",
    "         'F2': '17', 'F3': '3', 'F4': '125', 'F5': '579', 'F6': '279', 'F7': '6', 'F8': '8', 'F9': '257', 'G1': '1',\n",
    "         'G2': '8', 'G3': '6', 'G4': '35', 'G5': '345', 'G6': '34', 'G7': '9', 'G8': '27', 'G9': '27', 'H1': '7',\n",
    "         'H2': '2', 'H3': '4', 'H4': '9', 'H5': '1', 'H6': '8', 'H7': '5', 'H8': '3', 'H9': '6', 'I1': '9', 'I2': '3',\n",
    "         'I3': '5', 'I4': '7', 'I5': '2', 'I6': '6', 'I7': '1', 'I8': '4', 'I9': '8'}\n",
    "    ]"
   ]
  },
  {
   "cell_type": "code",
   "execution_count": 10,
   "metadata": {
    "collapsed": true,
    "deletable": true,
    "editable": true
   },
   "outputs": [],
   "source": [
    "before_naked_twins_3 = {\n",
    "        \"A1\": \"2468\",   \"A2\": \"9\",      \"A3\": \"1\",      \"A4\": \"5\",     \"A5\": \"3468\",    \"A6\": \"7\",       \"A7\": \"2346\",   \"A8\": \"2346\",    \"A9\": \"2346\",\n",
    "        \"B1\": \"5\",      \"B2\": \"2\",      \"B3\": \"3\",      \"B4\": \"46\",    \"B5\": \"46\",      \"B6\": \"1\",       \"B7\": \"23468\",  \"B8\": \"8\",       \"B9\": \"9\",\n",
    "        \"C1\": \"4678\",   \"C2\": \"68\",     \"C3\": \"4678\",   \"C4\": \"9\",     \"C5\": \"2\",       \"C6\": \"368\",     \"C7\": \"13456\",  \"C8\": \"13456\",   \"C9\": \"13456\",\n",
    "        \"D1\": \"123689\", \"D2\": \"4\",      \"D3\": \"25689\",  \"D4\": \"23678\", \"D5\": \"1356789\", \"D6\": \"23568\",   \"D7\": \"123568\", \"D8\": \"1235679\", \"D9\": \"1235678\",\n",
    "        \"E1\": \"123689\", \"E2\": \"123568\", \"E3\": \"25689\",  \"E4\": \"234678\",\"E5\": \"13456789\",\"E6\": \"23568\",   \"E7\": \"1234568\",\"E8\": \"12345679\",\"E9\": \"12345678\",\n",
    "        \"F1\": \"123689\", \"F2\": \"7\",      \"F3\": \"25689\",  \"F4\": \"23468\", \"F5\": \"1345689\", \"F6\": \"23568\",   \"F7\": \"1234568\",\"F8\": \"1234569\", \"F9\": \"1234568\",\n",
    "        \"G1\": \"1234678\",\"G2\": \"123568\", \"G3\": \"245678\", \"G4\": \"23678\", \"G5\": \"35678\",   \"G6\": \"9\",       \"G7\": \"1234568\",\"G8\": \"1234567\", \"G9\": \"12345678\",\n",
    "        \"H1\": \"2346789\",\"H2\": \"23568\",  \"H3\": \"2456789\",\"H4\": \"1\",     \"H5\": \"35678\",   \"H6\": \"23568\",   \"H7\": \"234568\", \"H8\": \"234567\",  \"H9\": \"2345678\",\n",
    "        \"I1\": \"123678\", \"I2\": \"123568\", \"I3\": \"25678\",  \"I4\": \"23678\", \"I5\": \"35678\",   \"I6\": \"4\",       \"I7\": \"9\",      \"I8\": \"123567\",  \"I9\": \"1235678\"\n",
    "    }"
   ]
  },
  {
   "cell_type": "code",
   "execution_count": 61,
   "metadata": {
    "collapsed": false,
    "deletable": true,
    "editable": true
   },
   "outputs": [
    {
     "name": "stdout",
     "output_type": "stream",
     "text": [
      "['A1', 'A2', 'A3', 'A4', 'A5', 'A6', 'A7', 'A8', 'A9']\n",
      "[] : []\n",
      "\n",
      "\n",
      "['B1', 'B2', 'B3', 'B4', 'B5', 'B6', 'B7', 'B8', 'B9']\n",
      "[] : []\n",
      "\n",
      "\n",
      "['C1', 'C2', 'C3', 'C4', 'C5', 'C6', 'C7', 'C8', 'C9']\n",
      "['C9'] : ['56']\n",
      "\n",
      "\n",
      "['D1', 'D2', 'D3', 'D4', 'D5', 'D6', 'D7', 'D8', 'D9']\n",
      "[] : []\n",
      "\n",
      "\n",
      "['E1', 'E2', 'E3', 'E4', 'E5', 'E6', 'E7', 'E8', 'E9']\n",
      "['E8'] : ['15']\n",
      "\n",
      "\n",
      "['F1', 'F2', 'F3', 'F4', 'F5', 'F6', 'F7', 'F8', 'F9']\n",
      "[] : []\n",
      "\n",
      "\n",
      "['G1', 'G2', 'G3', 'G4', 'G5', 'G6', 'G7', 'G8', 'G9']\n",
      "['G8'] : ['15']\n",
      "\n",
      "\n",
      "['H1', 'H2', 'H3', 'H4', 'H5', 'H6', 'H7', 'H8', 'H9']\n",
      "['H8'] : ['27']\n",
      "\n",
      "\n",
      "['I1', 'I2', 'I3', 'I4', 'I5', 'I6', 'I7', 'I8', 'I9']\n",
      "['I8'] : ['27']\n",
      "\n",
      "\n",
      "['A1', 'B1', 'C1', 'D1', 'E1', 'F1', 'G1', 'H1', 'I1']\n",
      "[] : []\n",
      "\n",
      "\n",
      "['A2', 'B2', 'C2', 'D2', 'E2', 'F2', 'G2', 'H2', 'I2']\n",
      "[] : []\n",
      "\n",
      "\n",
      "['A3', 'B3', 'C3', 'D3', 'E3', 'F3', 'G3', 'H3', 'I3']\n",
      "[] : []\n",
      "\n",
      "\n",
      "['A4', 'B4', 'C4', 'D4', 'E4', 'F4', 'G4', 'H4', 'I4']\n",
      "[] : []\n",
      "\n",
      "\n",
      "['A5', 'B5', 'C5', 'D5', 'E5', 'F5', 'G5', 'H5', 'I5']\n",
      "[] : []\n",
      "\n",
      "\n",
      "['A6', 'B6', 'C6', 'D6', 'E6', 'F6', 'G6', 'H6', 'I6']\n",
      "[] : []\n",
      "\n",
      "\n",
      "['A7', 'B7', 'C7', 'D7', 'E7', 'F7', 'G7', 'H7', 'I7']\n",
      "[] : []\n",
      "\n",
      "\n",
      "['A8', 'B8', 'C8', 'D8', 'E8', 'F8', 'G8', 'H8', 'I8']\n",
      "['E8', 'G8', 'H8', 'I8'] : ['15', '15', '27', '27']\n",
      "['15', '15', '27', '27']\n",
      "['A8', 'B8', 'C8', 'D8', 'F8']\n",
      "1\n",
      "1 A8 4\n",
      "1 B8 9\n",
      "1 C8 3\n",
      "1 D8 8\n",
      "1 F8 6\n",
      "1 H8 27\n",
      "1 I8 27\n",
      "5\n",
      "5 A8 4\n",
      "5 B8 9\n",
      "5 C8 3\n",
      "5 D8 8\n",
      "5 F8 6\n",
      "5 H8 27\n",
      "5 I8 27\n",
      "1\n",
      "1 A8 4\n",
      "1 B8 9\n",
      "1 C8 3\n",
      "1 D8 8\n",
      "1 F8 6\n",
      "1 H8 27\n",
      "1 I8 27\n",
      "5\n",
      "5 A8 4\n",
      "5 B8 9\n",
      "5 C8 3\n",
      "5 D8 8\n",
      "5 F8 6\n",
      "5 H8 27\n",
      "5 I8 27\n",
      "2\n",
      "2 A8 4\n",
      "2 B8 9\n",
      "2 C8 3\n",
      "2 D8 8\n",
      "2 E8 15\n",
      "2 F8 6\n",
      "2 G8 15\n",
      "7\n",
      "7 A8 4\n",
      "7 B8 9\n",
      "7 C8 3\n",
      "7 D8 8\n",
      "7 E8 15\n",
      "7 F8 6\n",
      "7 G8 15\n",
      "2\n",
      "2 A8 4\n",
      "2 B8 9\n",
      "2 C8 3\n",
      "2 D8 8\n",
      "2 E8 15\n",
      "2 F8 6\n",
      "2 G8 15\n",
      "7\n",
      "7 A8 4\n",
      "7 B8 9\n",
      "7 C8 3\n",
      "7 D8 8\n",
      "7 E8 15\n",
      "7 F8 6\n",
      "7 G8 15\n",
      "\n",
      "\n",
      "['A9', 'B9', 'C9', 'D9', 'E9', 'F9', 'G9', 'H9', 'I9']\n",
      "['C9'] : ['56']\n",
      "\n",
      "\n",
      "['A1', 'A2', 'A3', 'B1', 'B2', 'B3', 'C1', 'C2', 'C3']\n",
      "[] : []\n",
      "\n",
      "\n",
      "['A4', 'A5', 'A6', 'B4', 'B5', 'B6', 'C4', 'C5', 'C6']\n",
      "[] : []\n",
      "\n",
      "\n",
      "['A7', 'A8', 'A9', 'B7', 'B8', 'B9', 'C7', 'C8', 'C9']\n",
      "['C9'] : ['56']\n",
      "\n",
      "\n",
      "['D1', 'D2', 'D3', 'E1', 'E2', 'E3', 'F1', 'F2', 'F3']\n",
      "[] : []\n",
      "\n",
      "\n",
      "['D4', 'D5', 'D6', 'E4', 'E5', 'E6', 'F4', 'F5', 'F6']\n",
      "[] : []\n",
      "\n",
      "\n",
      "['D7', 'D8', 'D9', 'E7', 'E8', 'E9', 'F7', 'F8', 'F9']\n",
      "['E8'] : ['15']\n",
      "\n",
      "\n",
      "['G1', 'G2', 'G3', 'H1', 'H2', 'H3', 'I1', 'I2', 'I3']\n",
      "[] : []\n",
      "\n",
      "\n",
      "['G4', 'G5', 'G6', 'H4', 'H5', 'H6', 'I4', 'I5', 'I6']\n",
      "[] : []\n",
      "\n",
      "\n",
      "['G7', 'G8', 'G9', 'H7', 'H8', 'H9', 'I7', 'I8', 'I9']\n",
      "['G8', 'H8', 'I8'] : ['15', '27', '27']\n",
      "['27', '27']\n",
      "['G7', 'G9', 'H7', 'H9', 'I7', 'I9']\n",
      "2\n",
      "2 G7 1569\n",
      "2 G8 15\n",
      "2 G9 5689\n",
      "2 H7 5679\n",
      "2 H9 4\n",
      "2 I7 3\n",
      "2 I9 578\n",
      "7\n",
      "7 G7 1569\n",
      "7 G8 15\n",
      "7 G9 5689\n",
      "7 H7 569\n",
      "7 H9 4\n",
      "7 I7 3\n",
      "7 I9 58\n",
      "2\n",
      "2 G7 1569\n",
      "2 G8 15\n",
      "2 G9 5689\n",
      "2 H7 569\n",
      "2 H9 4\n",
      "2 I7 3\n",
      "2 I9 58\n",
      "7\n",
      "7 G7 1569\n",
      "7 G8 15\n",
      "7 G9 5689\n",
      "7 H7 569\n",
      "7 H9 4\n",
      "7 I7 3\n",
      "7 I9 58\n",
      "\n",
      "\n",
      "['A1', 'B2', 'C3', 'D4', 'E5', 'F6', 'G7', 'H8', 'I9']\n",
      "['H8', 'I9'] : ['27', '58']\n",
      "[]\n",
      "['A1', 'B2', 'C3', 'D4', 'E5', 'F6', 'G7']\n",
      "\n",
      "\n",
      "['A9', 'B8', 'C7', 'D6', 'E5', 'F4', 'G3', 'H2', 'I1']\n",
      "[] : []\n",
      "\n",
      "\n",
      " 2345689  2345689   34589  | 23456789  235678  2345689 |  24567      4        1    \n",
      "  123456   123456    345   | 1234567   123567   123456 |    8        9       567   \n",
      " 1245689  1245689     7    | 1245689   12568   1245689 |   2456      3        56   \n",
      "---------------------------+---------------------------+---------------------------\n",
      " 1234569  12345679   3459  |  123569   12356    123569 |  14579      8       3579  \n",
      "  135689   135689    3589  |  135689     4        7    |   159       15       2    \n",
      " 1234589  12345789  34589  |  123589   12358    123589 |  14579      6       3579  \n",
      "---------------------------+---------------------------+---------------------------\n",
      "    7      34589      2    |  134568   13568    134568 |   1569      15      5689  \n",
      "   3589     3589      1    |  235678   235678   23568  |   569       27       4    \n",
      "   458      458       6    |  124578     9      12458  |    3        27       58   \n"
     ]
    }
   ],
   "source": [
    "for unit in unitlist:\n",
    "    pairs_keys = [box for box in unit if len(fix_values[box]) == 2]\n",
    "    pairs_values = [fix_values[box] for box in unit if len(fix_values[box]) == 2]\n",
    "    print(unit)\n",
    "    print(pairs_keys,':',pairs_values)\n",
    "    if len(pairs_values) >1:\n",
    "        duplicates = [value for value in pairs_values if pairs_values.count(value) > 1]\n",
    "        nonpair_keys = [box for box in unit if len(fix_values[box]) != 2]\n",
    "        twins_values = fix_values\n",
    "        print(duplicates)\n",
    "        print(nonpair_keys)\n",
    "        for dub in duplicates:\n",
    "            twins = dub\n",
    "            for digit in twins:\n",
    "                print(digit)\n",
    "                for box in unit:\n",
    "                    if twins_values[box] != dub: \n",
    "                        twins_values[box] = twins_values[box].replace(digit,'')\n",
    "                        print(digit, box, twins_values[box])\n",
    "    print('\\n')\n",
    "display(twins_values)\n",
    "# return twins_values"
   ]
  },
  {
   "cell_type": "code",
   "execution_count": 60,
   "metadata": {
    "collapsed": true,
    "deletable": true,
    "editable": true
   },
   "outputs": [],
   "source": [
    "fix_values = {\"G7\": \"1569\", \"G6\": \"134568\", \"G5\": \"13568\", \"G4\": \"134568\", \"G3\":\n",
    "\"2\", \"G2\": \"34589\", \"G1\": \"7\", \"G9\": \"5689\", \"G8\": \"15\", \"C9\": \"56\",\n",
    "\"C8\": \"3\", \"C3\": \"7\", \"C2\": \"1245689\", \"C1\": \"1245689\", \"C7\": \"2456\",\n",
    "\"C6\": \"1245689\", \"C5\": \"12568\", \"C4\": \"1245689\", \"E5\": \"4\", \"E4\":\n",
    "\"135689\", \"F1\": \"1234589\", \"F2\": \"12345789\", \"F3\": \"34589\", \"F4\":\n",
    "\"123589\", \"F5\": \"12358\", \"F6\": \"123589\", \"F7\": \"14579\", \"F8\": \"6\",\n",
    "\"F9\": \"3579\", \"B4\": \"1234567\", \"B5\": \"123567\", \"B6\": \"123456\", \"B7\":\n",
    "\"8\", \"B1\": \"123456\", \"B2\": \"123456\", \"B3\": \"345\", \"B8\": \"9\", \"B9\":\n",
    "\"567\", \"I9\": \"578\", \"I8\": \"27\", \"I1\": \"458\", \"I3\": \"6\", \"I2\": \"458\",\n",
    "\"I5\": \"9\", \"I4\": \"124578\", \"I7\": \"3\", \"I6\": \"12458\", \"A1\": \"2345689\",\n",
    "\"A3\": \"34589\", \"A2\": \"2345689\", \"E9\": \"2\", \"A4\": \"23456789\", \"A7\":\n",
    "\"24567\", \"A6\": \"2345689\", \"A9\": \"1\", \"A8\": \"4\", \"E7\": \"159\", \"E6\":\n",
    "\"7\", \"E1\": \"135689\", \"E3\": \"3589\", \"E2\": \"135689\", \"E8\": \"15\", \"A5\":\n",
    "\"235678\", \"H8\": \"27\", \"H9\": \"4\", \"H2\": \"3589\", \"H3\": \"1\", \"H1\":\n",
    "\"3589\", \"H6\": \"23568\", \"H7\": \"25679\", \"H4\": \"235678\", \"H5\": \"235678\",\n",
    "\"D8\": \"8\", \"D9\": \"3579\", \"D6\": \"123569\", \"D7\": \"14579\", \"D4\":\n",
    "\"123569\", \"D5\": \"12356\", \"D2\": \"12345679\", \"D3\": \"3459\", \"D1\":\n",
    "\"1234569\"}"
   ]
  },
  {
   "cell_type": "code",
   "execution_count": 59,
   "metadata": {
    "collapsed": false,
    "deletable": true,
    "editable": true
   },
   "outputs": [
    {
     "ename": "TypeError",
     "evalue": "'NoneType' object is not subscriptable",
     "output_type": "error",
     "traceback": [
      "\u001b[0;31m---------------------------------------------------------------------------\u001b[0m",
      "\u001b[0;31mTypeError\u001b[0m                                 Traceback (most recent call last)",
      "\u001b[0;32m<ipython-input-59-ba4fa2d94485>\u001b[0m in \u001b[0;36m<module>\u001b[0;34m()\u001b[0m\n\u001b[0;32m----> 1\u001b[0;31m \u001b[0mdisplay\u001b[0m\u001b[0;34m(\u001b[0m\u001b[0msearch\u001b[0m\u001b[0;34m(\u001b[0m\u001b[0mtwins_values\u001b[0m\u001b[0;34m)\u001b[0m\u001b[0;34m)\u001b[0m\u001b[0;34m\u001b[0m\u001b[0m\n\u001b[0m",
      "\u001b[0;32m<ipython-input-1-edcaf971b7d5>\u001b[0m in \u001b[0;36mdisplay\u001b[0;34m(values)\u001b[0m\n\u001b[1;32m      8\u001b[0m     \u001b[0mOutput\u001b[0m\u001b[0;34m:\u001b[0m \u001b[0;32mNone\u001b[0m\u001b[0;34m\u001b[0m\u001b[0m\n\u001b[1;32m      9\u001b[0m     \"\"\"\n\u001b[0;32m---> 10\u001b[0;31m     \u001b[0mwidth\u001b[0m \u001b[0;34m=\u001b[0m \u001b[0;36m1\u001b[0m\u001b[0;34m+\u001b[0m\u001b[0mmax\u001b[0m\u001b[0;34m(\u001b[0m\u001b[0mlen\u001b[0m\u001b[0;34m(\u001b[0m\u001b[0mvalues\u001b[0m\u001b[0;34m[\u001b[0m\u001b[0ms\u001b[0m\u001b[0;34m]\u001b[0m\u001b[0;34m)\u001b[0m \u001b[0;32mfor\u001b[0m \u001b[0ms\u001b[0m \u001b[0;32min\u001b[0m \u001b[0mboxes\u001b[0m\u001b[0;34m)\u001b[0m\u001b[0;34m\u001b[0m\u001b[0m\n\u001b[0m\u001b[1;32m     11\u001b[0m     \u001b[0mline\u001b[0m \u001b[0;34m=\u001b[0m \u001b[0;34m'+'\u001b[0m\u001b[0;34m.\u001b[0m\u001b[0mjoin\u001b[0m\u001b[0;34m(\u001b[0m\u001b[0;34m[\u001b[0m\u001b[0;34m'-'\u001b[0m\u001b[0;34m*\u001b[0m\u001b[0;34m(\u001b[0m\u001b[0mwidth\u001b[0m\u001b[0;34m*\u001b[0m\u001b[0;36m3\u001b[0m\u001b[0;34m)\u001b[0m\u001b[0;34m]\u001b[0m\u001b[0;34m*\u001b[0m\u001b[0;36m3\u001b[0m\u001b[0;34m)\u001b[0m\u001b[0;34m\u001b[0m\u001b[0m\n\u001b[1;32m     12\u001b[0m     \u001b[0;32mfor\u001b[0m \u001b[0mr\u001b[0m \u001b[0;32min\u001b[0m \u001b[0mrows\u001b[0m\u001b[0;34m:\u001b[0m\u001b[0;34m\u001b[0m\u001b[0m\n",
      "\u001b[0;32m<ipython-input-1-edcaf971b7d5>\u001b[0m in \u001b[0;36m<genexpr>\u001b[0;34m(.0)\u001b[0m\n\u001b[1;32m      8\u001b[0m     \u001b[0mOutput\u001b[0m\u001b[0;34m:\u001b[0m \u001b[0;32mNone\u001b[0m\u001b[0;34m\u001b[0m\u001b[0m\n\u001b[1;32m      9\u001b[0m     \"\"\"\n\u001b[0;32m---> 10\u001b[0;31m     \u001b[0mwidth\u001b[0m \u001b[0;34m=\u001b[0m \u001b[0;36m1\u001b[0m\u001b[0;34m+\u001b[0m\u001b[0mmax\u001b[0m\u001b[0;34m(\u001b[0m\u001b[0mlen\u001b[0m\u001b[0;34m(\u001b[0m\u001b[0mvalues\u001b[0m\u001b[0;34m[\u001b[0m\u001b[0ms\u001b[0m\u001b[0;34m]\u001b[0m\u001b[0;34m)\u001b[0m \u001b[0;32mfor\u001b[0m \u001b[0ms\u001b[0m \u001b[0;32min\u001b[0m \u001b[0mboxes\u001b[0m\u001b[0;34m)\u001b[0m\u001b[0;34m\u001b[0m\u001b[0m\n\u001b[0m\u001b[1;32m     11\u001b[0m     \u001b[0mline\u001b[0m \u001b[0;34m=\u001b[0m \u001b[0;34m'+'\u001b[0m\u001b[0;34m.\u001b[0m\u001b[0mjoin\u001b[0m\u001b[0;34m(\u001b[0m\u001b[0;34m[\u001b[0m\u001b[0;34m'-'\u001b[0m\u001b[0;34m*\u001b[0m\u001b[0;34m(\u001b[0m\u001b[0mwidth\u001b[0m\u001b[0;34m*\u001b[0m\u001b[0;36m3\u001b[0m\u001b[0;34m)\u001b[0m\u001b[0;34m]\u001b[0m\u001b[0;34m*\u001b[0m\u001b[0;36m3\u001b[0m\u001b[0;34m)\u001b[0m\u001b[0;34m\u001b[0m\u001b[0m\n\u001b[1;32m     12\u001b[0m     \u001b[0;32mfor\u001b[0m \u001b[0mr\u001b[0m \u001b[0;32min\u001b[0m \u001b[0mrows\u001b[0m\u001b[0;34m:\u001b[0m\u001b[0;34m\u001b[0m\u001b[0m\n",
      "\u001b[0;31mTypeError\u001b[0m: 'NoneType' object is not subscriptable"
     ]
    }
   ],
   "source": [
    "display(search(twins_values))"
   ]
  },
  {
   "cell_type": "code",
   "execution_count": 46,
   "metadata": {
    "collapsed": false,
    "deletable": true,
    "editable": true,
    "scrolled": true
   },
   "outputs": [
    {
     "name": "stdout",
     "output_type": "stream",
     "text": [
      "  235689   235689    3589  | 2356789   235678   235689 |    27       4        1    \n",
      "  123456   12356     345   | 1234567   123567   123456 |    8        9        7    \n",
      "  12489    12489      7    |  12489     128     12489  |    56       3        56   \n",
      "---------------------------+---------------------------+---------------------------\n",
      " 1234569  12345679   3459  |  123569   12356     356   |  14579      8       3579  \n",
      "  135689   135689    3589  |  135689     4        7    |   159       15       2    \n",
      " 1234589  12345789  34589  |   358     12358    123589 |  14579      6       3579  \n",
      "---------------------------+---------------------------+---------------------------\n",
      "    7      34589      2    |  134568   13568    134568 |   1569      15      5689  \n",
      "   3589     358       1    |  235678   235678   23568  |  25679      2        4    \n",
      "    58      458       6    |  124578     9      12458  |    3        27       58   \n"
     ]
    }
   ],
   "source": [
    "display(naked_twins(fix_values))"
   ]
  },
  {
   "cell_type": "code",
   "execution_count": 44,
   "metadata": {
    "collapsed": false,
    "deletable": true,
    "editable": true
   },
   "outputs": [
    {
     "name": "stdout",
     "output_type": "stream",
     "text": [
      "  235689   235689    3589  | 2356789   235678   235689 |   2567      4        1    \n",
      "  123456   12356     345   | 1234567   123567   123456 |    8        9       567   \n",
      " 1245689  1245689     7    | 1245689   12568   1245689 |    56       3        56   \n",
      "---------------------------+---------------------------+---------------------------\n",
      " 1234569  12345679   3459  |  123569   12356     356   |  14579      8       3579  \n",
      "  135689   135689    3589  |  135689     4        7    |   159       15       2    \n",
      " 1234589  12345789  34589  |   358     12358    123589 |  14579      6       3579  \n",
      "---------------------------+---------------------------+---------------------------\n",
      "    7      34589      2    |  134568   13568    134568 |   1569      15      5689  \n",
      "   3589     358       1    |  235678   235678   23568  |  25679      2        4    \n",
      "    58      458       6    |  124578     9      12458  |    3        27       58   \n"
     ]
    }
   ],
   "source": [
    "display(eliminate(fix_values))"
   ]
  },
  {
   "cell_type": "code",
   "execution_count": 13,
   "metadata": {
    "collapsed": true,
    "deletable": true,
    "editable": true
   },
   "outputs": [],
   "source": [
    "solution_twins_3 = [{\n",
    "        \"A1\": \"2468\",    \"A2\": \"9\",      \"A3\": \"1\",      \"A4\": \"5\",     \"A5\": \"3468\",    \"A6\": \"7\",     \"A7\": \"2346\",   \"A8\": \"2346\",     \"A9\": \"2346\",\n",
    "        \"B1\": \"5\",       \"B2\": \"2\",      \"B3\": \"3\",      \"B4\": \"46\",    \"B5\": \"46\",      \"B6\": \"1\",     \"B7\": \"238\",    \"B8\": \"8\",         \"B9\": \"9\",\n",
    "        \"C1\": \"4678\",    \"C2\": \"68\",     \"C3\": \"4678\",   \"C4\": \"9\",     \"C5\": \"2\",       \"C6\": \"368\",   \"C7\": \"13456\",  \"C8\": \"13456\",     \"C9\": \"13456\",\n",
    "        \"D1\": \"123689\",  \"D2\": \"4\",      \"D3\": \"25689\",  \"D4\": \"23678\", \"D5\": \"1356789\", \"D6\": \"23568\", \"D7\": \"123568\",  \"D8\": \"1235679\",  \"D9\": \"1235678\",\n",
    "        \"E1\": \"123689\",  \"E2\": \"123568\", \"E3\": \"25689\",  \"E4\": \"234678\",\"E5\": \"13456789\", \"E6\": \"23568\",\"E7\": \"1234568\",\"E8\": \"12345679\", \"E9\": \"12345678\",\n",
    "        \"F1\": \"123689\",  \"F2\": \"7\",      \"F3\": \"25689\",  \"F4\": \"23468\", \"F5\": \"1345689\",  \"F6\": \"23568\",\"F7\": \"1234568\",\"F8\": \"1234569\",  \"F9\": \"1234568\",\n",
    "        \"G1\": \"1234678\", \"G2\": \"123568\", \"G3\": \"245678\", \"G4\": \"23678\", \"G5\": \"35678\",    \"G6\": \"9\",    \"G7\": \"1234568\",\"G8\": \"1234567\",  \"G9\": \"12345678\",\n",
    "        \"H1\": \"2346789\", \"H2\": \"23568\",  \"H3\": \"2456789\",\"H4\": \"1\",     \"H5\": \"35678\",    \"H6\": \"23568\",\"H7\": \"234568\", \"H8\": \"234567\",   \"H9\": \"2345678\",\n",
    "        \"I1\": \"123678\",  \"I2\": \"123568\", \"I3\": \"25678\",  \"I4\": \"23678\", \"I5\": \"35678\",    \"I6\": \"4\",    \"I7\": \"9\",      \"I8\": \"123567\",   \"I9\": \"1235678\"\n",
    "    }]"
   ]
  },
  {
   "cell_type": "code",
   "execution_count": 401,
   "metadata": {
    "collapsed": false,
    "deletable": true,
    "editable": true,
    "scrolled": true
   },
   "outputs": [
    {
     "name": "stdout",
     "output_type": "stream",
     "text": [
      "The slowest run took 4.03 times longer than the fastest. This could mean that an intermediate result is being cached.\n",
      "1000 loops, best of 3: 284 µs per loop\n"
     ]
    }
   ],
   "source": [
    "%timeit naked_twins(before_naked_twins_1)"
   ]
  },
  {
   "cell_type": "code",
   "execution_count": 334,
   "metadata": {
    "collapsed": false,
    "deletable": true,
    "editable": true
   },
   "outputs": [
    {
     "data": {
      "text/plain": [
       "True"
      ]
     },
     "execution_count": 334,
     "metadata": {},
     "output_type": "execute_result"
    }
   ],
   "source": [
    "possible_solutions_2[1] == check_sudoku"
   ]
  },
  {
   "cell_type": "markdown",
   "metadata": {
    "deletable": true,
    "editable": true
   },
   "source": [
    "Timeit!"
   ]
  },
  {
   "cell_type": "code",
   "execution_count": 206,
   "metadata": {
    "collapsed": false,
    "deletable": true,
    "editable": true,
    "scrolled": false
   },
   "outputs": [
    {
     "name": "stdout",
     "output_type": "stream",
     "text": [
      "The slowest run took 4.36 times longer than the fastest. This could mean that an intermediate result is being cached.\n",
      "1000 loops, best of 3: 575 µs per loop\n"
     ]
    }
   ],
   "source": [
    "grid = '4.....8.5.3..........7......2.....6.....8.4......1.......6.3.7.5..2.....1.4......'\n",
    "%timeit only_choice(eliminate(grid_values(grid)))"
   ]
  },
  {
   "cell_type": "code",
   "execution_count": 207,
   "metadata": {
    "collapsed": false,
    "deletable": true,
    "editable": true
   },
   "outputs": [
    {
     "name": "stdout",
     "output_type": "stream",
     "text": [
      "1000 loops, best of 3: 543 µs per loop\n"
     ]
    }
   ],
   "source": [
    "grid = '4.....8.5.3..........7......2.....6.....8.4......1.......6.3.7.5..2.....1.4......'\n",
    "%timeit only_c(eliminate(grid_values(grid)))"
   ]
  },
  {
   "cell_type": "code",
   "execution_count": null,
   "metadata": {
    "collapsed": true,
    "deletable": true,
    "editable": true
   },
   "outputs": [],
   "source": []
  }
 ],
 "metadata": {
  "kernelspec": {
   "display_name": "Python 3",
   "language": "python",
   "name": "python3"
  },
  "language_info": {
   "codemirror_mode": {
    "name": "ipython",
    "version": 3
   },
   "file_extension": ".py",
   "mimetype": "text/x-python",
   "name": "python",
   "nbconvert_exporter": "python",
   "pygments_lexer": "ipython3",
   "version": "3.6.0"
  }
 },
 "nbformat": 4,
 "nbformat_minor": 2
}
